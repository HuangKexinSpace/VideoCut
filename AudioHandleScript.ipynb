{
 "cells": [
  {
   "cell_type": "code",
   "execution_count": 1,
   "metadata": {},
   "outputs": [],
   "source": [
    "from openai import OpenAI\n",
    "import json\n",
    "import httpx\n",
    "import subprocess\n",
    "import os\n",
    "import shutil  \n",
    "import pandas as pd"
   ]
  },
  {
   "cell_type": "code",
   "execution_count": 9,
   "metadata": {},
   "outputs": [],
   "source": [
    "import subprocess\n",
    "\n",
    "# 切割45分钟的视频，每10分钟一个片段\n",
    "input_video = 'input.mp4'\n",
    "split_duration = 600  # 10分钟转为秒\n",
    "\n",
    "# 分五段处理，最后一段包括剩余时间\n",
    "for i in range(5):\n",
    "    start_time = split_duration * i\n",
    "    output_file = f'prepart{i+1}.mp4'\n",
    "    if i == 4:  # 对于最后一段，直到视频结束\n",
    "        subprocess.run(['ffmpeg', '-i', input_video, '-ss', str(start_time), '-c', 'copy', output_file], check=True)\n",
    "    else:\n",
    "        subprocess.run(['ffmpeg', '-i', input_video, '-ss', str(start_time), '-t', str(split_duration), '-c', 'copy', output_file], check=True)\n",
    "\n",
    "    # 对每段视频进行压缩和调整分辨率\n",
    "    compressed_output = f'part{i+1}.mp4'\n",
    "    subprocess.run(['ffmpeg', '-i', output_file, '-b:v', '50k', '-bufsize', '100k', '-vf', 'scale=-2:180', compressed_output], check=True)\n"
   ]
  },
  {
   "cell_type": "code",
   "execution_count": 8,
   "metadata": {},
   "outputs": [],
   "source": [
    "# 转录音频文件成文本\n",
    "client = OpenAI()\n",
    "\n",
    "# 遍历5个音频文件\n",
    "for i in range(1, 6):\n",
    "    # 构造文件名\n",
    "    file_name = f\"part{i}.mp4\"\n",
    "    # 打开文件\n",
    "    with open(file_name, \"rb\") as audio_file:\n",
    "        # 调用OpenAI API进行音频转录\n",
    "        transcription = client.audio.transcriptions.create(\n",
    "            model=\"whisper-1\", \n",
    "            file=audio_file,\n",
    "            language=\"zh\",\n",
    "            response_format=\"verbose_json\",\n",
    "            timestamp_granularities=[\"segment\"]\n",
    "        )\n",
    "\n",
    "        # 提取特定字段\n",
    "        extracted_data = [\n",
    "            {\"id\": item[\"id\"], \"start\": item[\"start\"], \"end\": item[\"end\"], \"text\": item[\"text\"]} \n",
    "            for item in transcription.segments\n",
    "        ]\n",
    "\n",
    "        # 将提取的数据保存为JSON文件\n",
    "        json_file_path = f'Part{i}_audio2text.json'\n",
    "        with open(json_file_path, 'w', encoding='utf-8') as f:\n",
    "            json.dump(extracted_data, f, ensure_ascii=False, indent=4)"
   ]
  },
  {
   "cell_type": "code",
   "execution_count": 2,
   "metadata": {},
   "outputs": [],
   "source": [
    "#将所有JSON文件合并为一个CSV文件\n",
    "\n",
    "import pandas as pd\n",
    "import json\n",
    "import os\n",
    "\n",
    "# 创建空的数据帧用于存储所有数据\n",
    "all_data = pd.DataFrame()\n",
    "\n",
    "# 遍历1到5的文件名\n",
    "for i in range(1, 6):\n",
    "    json_file_path = f'Part{i}_audio2text.json'\n",
    "    # 检查文件是否存在\n",
    "    if os.path.exists(json_file_path):\n",
    "        # 读取JSON文件\n",
    "        with open(json_file_path, 'r', encoding='utf-8') as file:\n",
    "            data = json.load(file)\n",
    "            # 转换为DataFrame\n",
    "            df = pd.DataFrame(data)\n",
    "            # 添加'name'和'check'列\n",
    "            df['name'] = f'prepart{i}.mp4'\n",
    "            df['check'] = 0\n",
    "            # 合并到总数据帧\n",
    "            all_data = pd.concat([all_data, df], ignore_index=True)\n",
    "\n",
    "# 保存到CSV文件\n",
    "all_data.to_csv('text.csv', index=False)\n"
   ]
  }
 ],
 "metadata": {
  "kernelspec": {
   "display_name": "openaipracice",
   "language": "python",
   "name": "python3"
  },
  "language_info": {
   "codemirror_mode": {
    "name": "ipython",
    "version": 3
   },
   "file_extension": ".py",
   "mimetype": "text/x-python",
   "name": "python",
   "nbconvert_exporter": "python",
   "pygments_lexer": "ipython3",
   "version": "3.8.18"
  }
 },
 "nbformat": 4,
 "nbformat_minor": 2
}
